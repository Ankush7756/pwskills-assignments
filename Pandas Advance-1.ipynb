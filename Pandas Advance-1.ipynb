{
 "cells": [
  {
   "cell_type": "code",
   "execution_count": 2,
   "id": "64322ccd",
   "metadata": {},
   "outputs": [
    {
     "name": "stdout",
     "output_type": "stream",
     "text": [
      "Head Function:\n",
      "      Name  Age  Salary\n",
      "0    Alice   25   50000\n",
      "1      Bob   30   60000\n",
      "2  Charlie   22   45000\n",
      "3    David   35   70000\n",
      "\n",
      "Describe Function:\n",
      "             Age        Salary\n",
      "count   4.000000      4.000000\n",
      "mean   28.000000  56250.000000\n",
      "std     5.715476  11086.778913\n",
      "min    22.000000  45000.000000\n",
      "25%    24.250000  48750.000000\n",
      "50%    27.500000  55000.000000\n",
      "75%    31.250000  62500.000000\n",
      "max    35.000000  70000.000000\n",
      "\n",
      "Shape Function:\n",
      "(4, 3)\n",
      "\n",
      "Groupby Function:\n",
      "      Salary\n",
      "Age         \n",
      "22   45000.0\n",
      "25   50000.0\n",
      "30   60000.0\n",
      "35   70000.0\n",
      "\n",
      "Value Counts Function:\n",
      "25    1\n",
      "30    1\n",
      "22    1\n",
      "35    1\n",
      "Name: Age, dtype: int64\n"
     ]
    },
    {
     "name": "stderr",
     "output_type": "stream",
     "text": [
      "C:\\Users\\choud\\AppData\\Local\\Temp\\ipykernel_8108\\3173673418.py:31: FutureWarning: The default value of numeric_only in DataFrameGroupBy.mean is deprecated. In a future version, numeric_only will default to False. Either specify numeric_only or select only columns which should be valid for the function.\n",
      "  grouped_data = df.groupby('Age').mean()\n"
     ]
    }
   ],
   "source": [
    "#Q1. List any five functions of the pandas library with execution.\n",
    "\n",
    "#Sure, let's go through five commonly used functions in pandas:\n",
    "\n",
    "\n",
    "import pandas as pd\n",
    "\n",
    "# Sample DataFrame\n",
    "data = {'Name': ['Alice', 'Bob', 'Charlie', 'David'],\n",
    "        'Age': [25, 30, 22, 35],\n",
    "        'Salary': [50000, 60000, 45000, 70000]}\n",
    "df = pd.DataFrame(data)\n",
    "\n",
    "# 1. Head function - Display the first n rows of the DataFrame (default n=5)\n",
    "print(\"Head Function:\")\n",
    "print(df.head())\n",
    "print()\n",
    "\n",
    "# 2. Describe function - Generates descriptive statistics of the DataFrame\n",
    "print(\"Describe Function:\")\n",
    "print(df.describe())\n",
    "print()\n",
    "\n",
    "# 3. Shape function - Returns a tuple representing the dimensionality of the DataFrame\n",
    "print(\"Shape Function:\")\n",
    "print(df.shape)\n",
    "print()\n",
    "\n",
    "# 4. Groupby function - Group DataFrame using a mapper or by a Series of columns\n",
    "print(\"Groupby Function:\")\n",
    "grouped_data = df.groupby('Age').mean()\n",
    "print(grouped_data)\n",
    "print()\n",
    "\n",
    "# 5. Value_counts function - Returns a Series containing counts of unique values\n",
    "print(\"Value Counts Function:\")\n",
    "count_by_age = df['Age'].value_counts()\n",
    "print(count_by_age)"
   ]
  },
  {
   "cell_type": "code",
   "execution_count": 3,
   "id": "ab1c83b6",
   "metadata": {},
   "outputs": [
    {
     "name": "stdout",
     "output_type": "stream",
     "text": [
      "      Name  Age  Salary\n",
      "1    Alice   25   50000\n",
      "3      Bob   30   60000\n",
      "5  Charlie   22   45000\n",
      "7    David   35   70000\n"
     ]
    }
   ],
   "source": [
    "#Q2. Python function to re-index the DataFrame:\n",
    "\n",
    "\n",
    "def reindex_dataframe(df):\n",
    "    new_index = list(range(1, len(df)*2, 2))\n",
    "    df = df.set_index(pd.Index(new_index))\n",
    "    return df\n",
    "\n",
    "# Example usage:\n",
    "new_df = reindex_dataframe(df)\n",
    "print(new_df)"
   ]
  },
  {
   "cell_type": "code",
   "execution_count": 4,
   "id": "69980bc8",
   "metadata": {},
   "outputs": [
    {
     "name": "stdout",
     "output_type": "stream",
     "text": [
      "Sum of the first three values: 60\n"
     ]
    }
   ],
   "source": [
    "#Q3. Python function to calculate the sum of the first three values:\n",
    "\n",
    "\n",
    "def sum_of_first_three_values(df):\n",
    "    values_sum = df['Values'][:3].sum()\n",
    "    print(f\"Sum of the first three values: {values_sum}\")\n",
    "\n",
    "# Example usage:\n",
    "df = pd.DataFrame({'Values': [10, 20, 30, 40, 50]})\n",
    "sum_of_first_three_values(df)"
   ]
  },
  {
   "cell_type": "code",
   "execution_count": 5,
   "id": "11ef69aa",
   "metadata": {},
   "outputs": [
    {
     "name": "stdout",
     "output_type": "stream",
     "text": [
      "                Text  Word_Count\n",
      "0        Hello world           2\n",
      "1  Python is awesome           3\n",
      "2       Data Science           2\n"
     ]
    }
   ],
   "source": [
    "#Q4. Python function to create a new column 'Word_Count':\n",
    "\n",
    "\n",
    "def add_word_count_column(df):\n",
    "    df['Word_Count'] = df['Text'].apply(lambda x: len(str(x).split()))\n",
    "    return df\n",
    "\n",
    "# Example usage:\n",
    "df = pd.DataFrame({'Text': ['Hello world', 'Python is awesome', 'Data Science']})\n",
    "new_df = add_word_count_column(df)\n",
    "print(new_df)"
   ]
  },
  {
   "cell_type": "code",
   "execution_count": 9,
   "id": "8d651944",
   "metadata": {},
   "outputs": [
    {
     "data": {
      "text/plain": [
       "'DataFrame.size() returns the number of elements in the DataFrame (total cells).\\nDataFrame.shape() returns a tuple representing the dimensions of the DataFrame (number of rows, number of columns)'"
      ]
     },
     "execution_count": 9,
     "metadata": {},
     "output_type": "execute_result"
    }
   ],
   "source": [
    "#Q5. How are DataFrame.size() and DataFrame.shape() different?\n",
    "\n",
    "'''DataFrame.size() returns the number of elements in the DataFrame (total cells).\n",
    "DataFrame.shape() returns a tuple representing the dimensions of the DataFrame (number of rows, number of columns)'''"
   ]
  },
  {
   "cell_type": "code",
   "execution_count": 11,
   "id": "c0ba97bc",
   "metadata": {},
   "outputs": [],
   "source": [
    "#Q6. Function to read an Excel file:\n",
    "\n",
    "def read_excel_file(file_path):\n",
    "    df = pd.read_excel(file_path)\n",
    "    return df\n",
    "\n",
    "# Example usage:\n",
    "excel_file_path = 'path/to/your/file.xlsx'\n",
    "df = read_excel_file(excel_file_path)\n"
   ]
  },
  {
   "cell_type": "code",
   "execution_count": 12,
   "id": "782c6282",
   "metadata": {},
   "outputs": [
    {
     "name": "stdout",
     "output_type": "stream",
     "text": [
      "                     Email     Username\n",
      "0     john.doe@example.com     john.doe\n",
      "1  alice.smith@example.com  alice.smith\n"
     ]
    }
   ],
   "source": [
    "#Q7. Function to extract usernames from email addresses:\n",
    "\n",
    "\n",
    "def extract_usernames(df):\n",
    "    df['Username'] = df['Email'].apply(lambda x: x.split('@')[0])\n",
    "    return df\n",
    "\n",
    "# Example usage:\n",
    "df = pd.DataFrame({'Email': ['john.doe@example.com', 'alice.smith@example.com']})\n",
    "new_df = extract_usernames(df)\n",
    "print(new_df)"
   ]
  },
  {
   "cell_type": "code",
   "execution_count": 13,
   "id": "bfa29339",
   "metadata": {},
   "outputs": [
    {
     "name": "stdout",
     "output_type": "stream",
     "text": [
      "   A  B  C\n",
      "1  8  2  7\n",
      "2  6  9  4\n",
      "4  9  1  2\n"
     ]
    }
   ],
   "source": [
    "# Q8. Function to select rows based on conditions:\n",
    "\n",
    "\n",
    "def select_rows(df):\n",
    "    selected_rows = df[(df['A'] > 5) & (df['B'] < 10)]\n",
    "    return selected_rows\n",
    "\n",
    "# Example usage:\n",
    "df = pd.DataFrame({'A': [3, 8, 6, 2, 9],\n",
    "                   'B': [5, 2, 9, 3, 1],\n",
    "                   'C': [1, 7, 4, 5, 2]})\n",
    "selected_df = select_rows(df)\n",
    "print(selected_df)"
   ]
  },
  {
   "cell_type": "code",
   "execution_count": 14,
   "id": "0a655115",
   "metadata": {},
   "outputs": [
    {
     "name": "stdout",
     "output_type": "stream",
     "text": [
      "Mean: 30.0, Median: 30.0, Standard Deviation: 15.811388300841896\n"
     ]
    }
   ],
   "source": [
    "#Q9. Function to calculate mean, median, and standard deviation:\n",
    "\n",
    "\n",
    "def calculate_stats(df):\n",
    "    mean_value = df['Values'].mean()\n",
    "    median_value = df['Values'].median()\n",
    "    std_deviation = df['Values'].std()\n",
    "    print(f\"Mean: {mean_value}, Median: {median_value}, Standard Deviation: {std_deviation}\")\n",
    "\n",
    "# Example usage:\n",
    "df = pd.DataFrame({'Values': [10, 20, 30, 40, 50]})\n",
    "calculate_stats(df)"
   ]
  },
  {
   "cell_type": "code",
   "execution_count": 15,
   "id": "d1a5cd83",
   "metadata": {},
   "outputs": [
    {
     "name": "stdout",
     "output_type": "stream",
     "text": [
      "   Sales  MovingAverage\n",
      "0     10           10.0\n",
      "1     15           12.5\n",
      "2     20           15.0\n",
      "3     25           17.5\n",
      "4     30           20.0\n",
      "5     35           22.5\n",
      "6     40           25.0\n",
      "7     45           30.0\n"
     ]
    }
   ],
   "source": [
    "# Q10. Function to create a MovingAverage column:\n",
    "\n",
    "\n",
    "def moving_average(df):\n",
    "    df['MovingAverage'] = df['Sales'].rolling(window=7, min_periods=1).mean()\n",
    "    return df\n",
    "\n",
    "# Example usage:\n",
    "df = pd.DataFrame({'Sales': [10, 15, 20, 25, 30, 35, 40, 45]})\n",
    "new_df = moving_average(df)\n",
    "print(new_df)"
   ]
  },
  {
   "cell_type": "code",
   "execution_count": 16,
   "id": "ff7f380e",
   "metadata": {},
   "outputs": [
    {
     "name": "stdout",
     "output_type": "stream",
     "text": [
      "         Date    Weekday\n",
      "0  2023-01-01     Sunday\n",
      "1  2023-01-02     Monday\n",
      "2  2023-01-03    Tuesday\n",
      "3  2023-01-04  Wednesday\n",
      "4  2023-01-05   Thursday\n"
     ]
    }
   ],
   "source": [
    "#Q11. Function to create a 'Weekday' column:\n",
    "\n",
    "def add_weekday_column(df):\n",
    "    df['Weekday'] = pd.to_datetime(df['Date']).dt.day_name()\n",
    "    return df\n",
    "\n",
    "# Example usage:\n",
    "df = pd.DataFrame({'Date': ['2023-01-01', '2023-01-02', '2023-01-03', '2023-01-04', '2023-01-05']})\n",
    "new_df = add_weekday_column(df)\n",
    "print(new_df)\n"
   ]
  },
  {
   "cell_type": "code",
   "execution_count": 17,
   "id": "2cdd287d",
   "metadata": {},
   "outputs": [
    {
     "name": "stdout",
     "output_type": "stream",
     "text": [
      "        Date  Values\n",
      "0 2023-01-01      10\n",
      "1 2023-01-15      20\n"
     ]
    }
   ],
   "source": [
    "#Q12. Function to select rows between two dates:\n",
    "\n",
    "def select_rows_between_dates(df, start_date, end_date):\n",
    "    df['Date'] = pd.to_datetime(df['Date'])\n",
    "    selected_rows = df[(df['Date'] >= start_date) & (df['Date'] <= end_date)]\n",
    "    return selected_rows\n",
    "\n",
    "# Example usage:\n",
    "df = pd.DataFrame({'Date': ['2023-01-01', '2023-01-15', '2023-02-01', '2023-02-15'],\n",
    "                   'Values': [10, 20, 30, 40]})\n",
    "start_date = '2023-01-01'\n",
    "end_date = '2023-01-31'\n",
    "selected_df = select_rows_between_dates(df, start_date, end_date)\n",
    "print(selected_df)"
   ]
  },
  {
   "cell_type": "code",
   "execution_count": 18,
   "id": "4f6fd809",
   "metadata": {},
   "outputs": [],
   "source": [
    "#Q13. Importing necessary library for basic pandas functions:\n",
    "\n",
    "\n",
    "import pandas as pd"
   ]
  },
  {
   "cell_type": "code",
   "execution_count": null,
   "id": "52d579f3",
   "metadata": {},
   "outputs": [],
   "source": []
  }
 ],
 "metadata": {
  "kernelspec": {
   "display_name": "Python 3 (ipykernel)",
   "language": "python",
   "name": "python3"
  },
  "language_info": {
   "codemirror_mode": {
    "name": "ipython",
    "version": 3
   },
   "file_extension": ".py",
   "mimetype": "text/x-python",
   "name": "python",
   "nbconvert_exporter": "python",
   "pygments_lexer": "ipython3",
   "version": "3.11.3"
  }
 },
 "nbformat": 4,
 "nbformat_minor": 5
}
