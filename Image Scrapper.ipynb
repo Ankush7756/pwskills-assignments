{
 "cells": [
  {
   "cell_type": "code",
   "execution_count": 2,
   "id": "b74cbef8",
   "metadata": {},
   "outputs": [
    {
     "data": {
      "text/plain": [
       "'To accomplish the tasks described, you can use Python along with the Beautiful Soup library for web scraping. Additionally, you can use the requests library to fetch the web page. Here is an example script that demonstrates how to achieve each task:'"
      ]
     },
     "execution_count": 2,
     "metadata": {},
     "output_type": "execute_result"
    }
   ],
   "source": [
    "'''To accomplish the tasks described, you can use Python along with the Beautiful Soup library for web scraping. Additionally, you can use the requests library to fetch the web page. Here is an example script that demonstrates how to achieve each task:'''"
   ]
  },
  {
   "cell_type": "code",
   "execution_count": null,
   "id": "a2add2a2",
   "metadata": {},
   "outputs": [],
   "source": [
    "import requests\n",
    "from bs4 import BeautifulSoup\n",
    "import csv\n",
    "\n",
    "# Function to extract data and save to CSV\n",
    "def extract_and_save_to_csv(url, filename, extractor_func):\n",
    "    response = requests.get(url)\n",
    "    soup = BeautifulSoup(response.text, 'html.parser')\n",
    "    \n",
    "    data = extractor_func(soup)\n",
    "    \n",
    "    # Save data to CSV\n",
    "    with open(filename, 'w', newline='', encoding='utf-8') as csvfile:\n",
    "        csv_writer = csv.writer(csvfile)\n",
    "        csv_writer.writerow(data[0].keys())  # Writing the header\n",
    "        for row in data:\n",
    "            csv_writer.writerow(row.values())\n",
    "\n",
    "# Function to extract video URL of the first five videos\n",
    "def extract_video_urls(soup):\n",
    "    videos = soup.find_all('a', {'id': 'video-title'})\n",
    "    return [{'Video URL': f\"https://www.youtube.com{video['href']}\"} for video in videos[:5]]\n",
    "\n",
    "# Function to extract video thumbnail URLs of the first five videos\n",
    "def extract_thumbnail_urls(soup):\n",
    "    thumbnails = soup.find_all('img', {'class': 'style-scope yt-img-shadow'})\n",
    "    return [{'Thumbnail URL': thumbnail['src']} for thumbnail in thumbnails[:5]]\n",
    "\n",
    "# Function to extract video titles of the first five videos\n",
    "def extract_video_titles(soup):\n",
    "    titles = soup.find_all('a', {'id': 'video-title'})\n",
    "    return [{'Video Title': title.text.strip()} for title in titles[:5]]\n",
    "\n",
    "# Function to extract number of views of the first five videos\n",
    "def extract_number_of_views(soup):\n",
    "    views = soup.find_all('span', {'class': 'style-scope ytd-grid-video-renderer'})\n",
    "    return [{'Number of Views': view.text.strip()} for view in views[:5]]\n",
    "\n",
    "# Function to extract time of posting of the first five videos\n",
    "def extract_time_of_posting(soup):\n",
    "    times = soup.find_all('span', {'class': 'style-scope ytd-grid-video-renderer'})\n",
    "    return [{'Time of Posting': time.text.strip()} for time in times[:5]]\n",
    "\n",
    "# URL of the YouTube channel\n",
    "youtube_url = \"https://www.youtube.com/@PW-Foundation/videos\"\n",
    "\n",
    "# Task 1: Extract video URLs\n",
    "extract_and_save_to_csv(youtube_url, 'video_urls.csv', extract_video_urls)\n",
    "\n",
    "# Task 2: Extract video thumbnail URLs\n",
    "extract_and_save_to_csv(youtube_url, 'thumbnail_urls.csv', extract_thumbnail_urls)\n",
    "\n",
    "# Task 3: Extract video titles\n",
    "extract_and_save_to_csv(youtube_url, 'video_titles.csv', extract_video_titles)\n",
    "\n",
    "# Task 4: Extract number of views\n",
    "extract_and_save_to_csv(youtube_url, 'number_of_views.csv', extract_number_of_views)\n",
    "\n",
    "# Task 5: Extract time of posting\n",
    "extract_and_save_to_csv(youtube_url, 'time_of_posting.csv', extract_time_of_posting)\n"
   ]
  },
  {
   "cell_type": "code",
   "execution_count": null,
   "id": "56641f11",
   "metadata": {},
   "outputs": [],
   "source": []
  }
 ],
 "metadata": {
  "kernelspec": {
   "display_name": "Python 3 (ipykernel)",
   "language": "python",
   "name": "python3"
  },
  "language_info": {
   "codemirror_mode": {
    "name": "ipython",
    "version": 3
   },
   "file_extension": ".py",
   "mimetype": "text/x-python",
   "name": "python",
   "nbconvert_exporter": "python",
   "pygments_lexer": "ipython3",
   "version": "3.11.3"
  }
 },
 "nbformat": 4,
 "nbformat_minor": 5
}
