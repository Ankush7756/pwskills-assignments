{
 "cells": [
  {
   "cell_type": "markdown",
   "id": "96a33f2e",
   "metadata": {},
   "source": [
    "Q1. What is an Exception in Python? Write the difference between Exceptions and Syntax errors."
   ]
  },
  {
   "cell_type": "markdown",
   "id": "b40ab864",
   "metadata": {},
   "source": [
    "Answer: In Python, an exception is an event that occurs during the execution of a program, disrupting the normal flow of instructions. It is a way of handling errors and exceptional situations. Exceptions are raised when there is an error in the program, and they can be caught and handled to prevent the program from crashing.\n",
    "Syntax errors, on the other hand, are errors that occur when the Python interpreter encounters an incorrect statement. These errors are detected during the parsing (compilation) of the code and prevent the program from running.\n",
    "\n",
    "The main difference is that exceptions occur during the execution of the program, while syntax errors are identified during the parsing phase."
   ]
  },
  {
   "cell_type": "markdown",
   "id": "b3c8df14",
   "metadata": {},
   "source": [
    "Q2. What happens when an exception is not handled? Explain with an example.\n",
    "\n",
    "Answer: When an exception is not handled, it propagates up the call stack, searching for an appropriate exception handler. If it reaches the top-level of the program without being caught, the program terminates, and an error message is displayed.\n",
    "Example:\n",
    "\n",
    "python\n",
    "Copy code\n",
    "def divide(x, y):\n",
    "    return x / y\n",
    "\n",
    "result = divide(5, 0)  # This will raise a ZeroDivisionError\n",
    "print(result)  # This line will not be executed if the exception is not handled\n",
    "In this example, dividing by zero will raise a ZeroDivisionError. If this exception is not handled, the program will terminate abruptly."
   ]
  },
  {
   "cell_type": "markdown",
   "id": "c3118363",
   "metadata": {},
   "source": [
    "Q3. Which Python statements are used to raise and handle exceptions? Explain with an example.\n",
    "\n",
    "Answer: The try, except, finally, raise, and else statements are used to raise and handle exceptions in Python.\n",
    "Example:\n",
    "\n",
    "python\n",
    "Copy code\n",
    "try:\n",
    "    result = 10 / 0\n",
    "except ZeroDivisionError:\n",
    "    print(\"Cannot divide by zero!\")\n",
    "else:\n",
    "    print(\"Division successful!\")\n",
    "finally:\n",
    "    print(\"This will always execute.\")\n",
    "In this example, the try block attempts to perform a division that may raise a ZeroDivisionError. The except block handles this specific exception, the else block is executed if there is no exception, and the finally block always executes, regardless of whether an exception occurred or not."
   ]
  },
  {
   "cell_type": "markdown",
   "id": "eb0a0f9f",
   "metadata": {},
   "source": [
    "Q4. Explain with an example: try, except, else, finally, raise.\n",
    "\n",
    "Answer:\n",
    "python\n",
    "Copy code\n",
    "try:\n",
    "    x = int(input(\"Enter a number: \"))\n",
    "    if x < 0:\n",
    "        raise ValueError(\"Negative numbers are not allowed.\")\n",
    "except ValueError as ve:\n",
    "    print(f\"Error: {ve}\")\n",
    "else:\n",
    "    print(\"You entered a non-negative number.\")\n",
    "finally:\n",
    "    print(\"This will always execute.\")\n",
    "In this example, the try block attempts to convert user input to an integer and then checks if it's negative. If a negative number is entered, it raises a ValueError. The except block catches this exception, the else block is executed if no exception occurs, and the finally block always executes.\n",
    "\n",
    "Q5. What are Custom Exceptions in Python? Why do we need Custom Exceptions? Explain with an example.\n",
    "\n",
    "Answer: Custom exceptions in Python are user-defined exception classes. They allow programmers to create their own exception types to represent specific error conditions in their applications.\n",
    "Custom exceptions are useful when standard built-in exceptions are not expressive enough to convey the nature of an error. They help in writing more readable and maintainable code.\n",
    "\n",
    "Example:\n",
    "\n",
    "python\n",
    "Copy code\n",
    "class NegativeValueError(ValueError):\n",
    "    pass\n",
    "\n",
    "def process_value(value):\n",
    "    if value < 0:\n",
    "        raise NegativeValueError(\"Negative values are not allowed.\")\n",
    "    return value * 2\n",
    "\n",
    "try:\n",
    "    result = process_value(-5)\n",
    "except NegativeValueError as nve:\n",
    "    print(f\"Error: {nve}\")\n",
    "In this example, NegativeValueError is a custom exception class. The process_value function raises this exception if a negative value is encountered. The try block catches and handles this custom exception.\n",
    "\n",
    "Q6. Create a custom exception class. Use this class to handle an exception.\n",
    "\n",
    "Answer:\n",
    "python\n",
    "Copy code\n",
    "class CustomError(Exception):\n",
    "    def __init__(self, message=\"Custom error occurred.\"):\n",
    "        self.message = message\n",
    "        super().__init__(self.message)\n",
    "\n",
    "def example_function(x):\n",
    "    if x < 0:\n",
    "        raise CustomError(\"Negative values are not allowed.\")\n",
    "    return x * 2\n",
    "\n",
    "try:\n",
    "    result = example_function(-3)\n",
    "except CustomError as ce:\n",
    "    print(f\"Error: {ce}\")\n",
    "In this example, the CustomError class is a custom exception class. The example_function raises this exception if a negative value is encountered. The try block catches and handles this custom exception.\n",
    "\n",
    "\n",
    "\n",
    "\n",
    "\n"
   ]
  },
  {
   "cell_type": "code",
   "execution_count": null,
   "id": "422a05d4",
   "metadata": {},
   "outputs": [],
   "source": []
  }
 ],
 "metadata": {
  "kernelspec": {
   "display_name": "Python 3 (ipykernel)",
   "language": "python",
   "name": "python3"
  },
  "language_info": {
   "codemirror_mode": {
    "name": "ipython",
    "version": 3
   },
   "file_extension": ".py",
   "mimetype": "text/x-python",
   "name": "python",
   "nbconvert_exporter": "python",
   "pygments_lexer": "ipython3",
   "version": "3.11.3"
  }
 },
 "nbformat": 4,
 "nbformat_minor": 5
}
