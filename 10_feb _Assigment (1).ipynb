{
 "cells": [
  {
   "cell_type": "markdown",
   "id": "1fa77c90-1379-42a8-b57e-b039cca46ba4",
   "metadata": {},
   "source": [
    "Q1. Which function is used to open a file? What are the different modes of opening a file? Explain each mode\n",
    "of file opening."
   ]
  },
  {
   "cell_type": "code",
   "execution_count": null,
   "id": "42c1c448-c51b-4c32-8d82-5ad7345bb2d9",
   "metadata": {},
   "outputs": [],
   "source": [
    "file_object = open(file_name, access_mode)\n",
    "\"\"\"\n",
    "r\tOpen a file for reading. (default)\n",
    "w\tOpen a file for writing. Creates a new file if it does not exist or truncates the file if it exists.\n",
    "x\tOpen a file for exclusive creation. If the file already exists, the operation fails.\n",
    "a\tOpen a file for appending at the end of the file without truncating it. Creates a new file if it does not exist.\n",
    "t\tOpen in text mode. (default)\n",
    "b\tOpen in binary mode.\"\"\""
   ]
  },
  {
   "cell_type": "code",
   "execution_count": null,
   "id": "bca2070f-8b22-4421-b78a-d01b868573aa",
   "metadata": {},
   "outputs": [],
   "source": []
  },
  {
   "cell_type": "markdown",
   "id": "1b8e6605-5da4-4543-8611-2177d5d2a115",
   "metadata": {},
   "source": [
    "Q2. Why close() function is used? Why is it important to close a file?"
   ]
  },
  {
   "cell_type": "code",
   "execution_count": null,
   "id": "0cbf4ecf-4fab-4903-a417-fe1d4ff6620f",
   "metadata": {},
   "outputs": [],
   "source": [
    "\"\"\"The close() method closes an open file.\n",
    "\n",
    "You should always close your files, in some cases, due to buffering, changes made to a file may not show until you close the file.\n",
    "\n",
    "\"\"\""
   ]
  },
  {
   "cell_type": "code",
   "execution_count": null,
   "id": "68fb56ec-e90f-4e5b-bac7-8db1faa75f6c",
   "metadata": {},
   "outputs": [],
   "source": []
  },
  {
   "cell_type": "markdown",
   "id": "e15b8d2c-4618-4acd-831f-3e6ef6886c05",
   "metadata": {},
   "source": [
    "Q3. Write a python program to create a text file. Write ‘I want to become a Data Scientist’ in that file. Then\n",
    "close the file. Open this file and read the content of the file."
   ]
  },
  {
   "cell_type": "code",
   "execution_count": null,
   "id": "73298021-8cfa-4fed-9217-e14004c6afa9",
   "metadata": {},
   "outputs": [],
   "source": [
    "# Open a file for writing\n",
    "file = open(\"my_file.txt\", \"w\")\n",
    "\n",
    "# Write to the file\n",
    "file.write(\"I want to become a Data Scientist\")\n",
    "\n",
    "# Close the file\n",
    "file.close()\n",
    "\n",
    "# Open the file for reading\n",
    "file = open(\"my_file.txt\", \"r\")\n",
    "\n",
    "# Read the contents of the file\n",
    "content = file.read()\n",
    "\n",
    "# Print the content of the file\n",
    "print(content)\n",
    "\n",
    "# Close the file\n",
    "file.close()\n"
   ]
  },
  {
   "cell_type": "code",
   "execution_count": null,
   "id": "2b6c88a1-67c7-458e-b26f-bf4d4cf56cfa",
   "metadata": {},
   "outputs": [],
   "source": []
  },
  {
   "cell_type": "markdown",
   "id": "9fdec864-8bf4-43b7-8f70-c7109c256659",
   "metadata": {},
   "source": [
    "Q4. Explain the following with python code: read(), readline() and readlines()."
   ]
  },
  {
   "cell_type": "code",
   "execution_count": null,
   "id": "0a18d8c1-da29-4aee-8f83-81b00d633f3d",
   "metadata": {},
   "outputs": [],
   "source": [
    "\"\"\"Yes, that is correct. The readlines() method is used to read all the lines in a file and return them as a list, where each element in the list is a string representing a line from the file.\n",
    "\n",
    "Here is an example:\"\"\"\n",
    "# Open the file for reading\n",
    "file = open(\"example.txt\", \"r\")\n",
    "\n",
    "# Read all the lines from the file\n",
    "lines = file.readlines()\n",
    "\n",
    "# Close the file\n",
    "file.close()\n",
    "\n",
    "# Print the list of lines\n",
    "print(lines)\n"
   ]
  },
  {
   "cell_type": "code",
   "execution_count": null,
   "id": "71878b4c-a522-4854-8733-1c271d13dcc9",
   "metadata": {},
   "outputs": [],
   "source": []
  },
  {
   "cell_type": "markdown",
   "id": "4e9ee5a1-6e0e-438a-96ba-c6db6605459b",
   "metadata": {},
   "source": [
    "Q5. Explain why with statement is used with open(). What is the advantage of using with statement and\n",
    "open() together?"
   ]
  },
  {
   "cell_type": "code",
   "execution_count": null,
   "id": "3f049f0f-567a-44a7-9c71-a625495cf6ad",
   "metadata": {},
   "outputs": [],
   "source": [
    "\"\"\"The with statement in Python is used in conjunction with the open() function to handle file objects more efficiently and safely. The open() function is used to create a file object and returns a file pointer, which can be used to perform operations on the file. However, it's important to remember to close the file after completing the operations, otherwise, the file might be left open, which can cause issues with other programs or processes trying to access the same file.\n",
    "\n",
    "The with statement simplifies this process by automatically taking care of closing the file when it's no longer needed. Here's an example of how to use the with statement with open():\"\"\""
   ]
  },
  {
   "cell_type": "code",
   "execution_count": null,
   "id": "377ee7c2-a40d-4e06-acdf-426c6605cef2",
   "metadata": {},
   "outputs": [],
   "source": []
  },
  {
   "cell_type": "code",
   "execution_count": null,
   "id": "0e3863a4-c4ed-4843-ac71-4f451adf2e63",
   "metadata": {},
   "outputs": [],
   "source": []
  },
  {
   "cell_type": "markdown",
   "id": "b7b7967e-1096-4c5f-a784-9e6befb3a040",
   "metadata": {},
   "source": [
    "Q6. Explain the write() and writelines() functions. Give a suitable example."
   ]
  },
  {
   "cell_type": "code",
   "execution_count": null,
   "id": "4dc86f6c-8543-428d-a3f1-c8241884efd8",
   "metadata": {},
   "outputs": [],
   "source": [
    "\"\"\"write() function\n",
    "The write() function will write the content in the file without adding any extra characters.\n",
    "\n",
    "Syntax: \n",
    "\n",
    "# Writes string content referenced by file object.\n",
    "file_name.write(content) \n",
    "As per the syntax, the string that is passed to the write() function is written into the opened file. The string may include numbers, special characters, or symbols. While writing data to a file, we must know that the write function does not add a newline character(\\n) to the end of the string. The write() function returns None.\"\"\""
   ]
  },
  {
   "cell_type": "code",
   "execution_count": null,
   "id": "fe3dd129-052b-458f-9410-a70a9f1d82fd",
   "metadata": {},
   "outputs": [],
   "source": [
    "\"\"\"writelines() function\n",
    "This function writes the content of a list to a file.\n",
    "\n",
    "Syntax:   \n",
    "\n",
    "# write all the strings present in the list \"list_of_lines\" \n",
    "# referenced by file object.\n",
    "file_name.writelines(list_of_lines)\n",
    "As per the syntax, the list of strings that is passed to the writelines() function is written into the opened file. Similar to the write() function, the writelines() function does not add a newline character(\\n) to the end of the string\"\"\""
   ]
  },
  {
   "cell_type": "code",
   "execution_count": null,
   "id": "07941330-2c39-4346-9fbe-8868cda11e10",
   "metadata": {},
   "outputs": [],
   "source": []
  }
 ],
 "metadata": {
  "kernelspec": {
   "display_name": "Python 3 (ipykernel)",
   "language": "python",
   "name": "python3"
  },
  "language_info": {
   "codemirror_mode": {
    "name": "ipython",
    "version": 3
   },
   "file_extension": ".py",
   "mimetype": "text/x-python",
   "name": "python",
   "nbconvert_exporter": "python",
   "pygments_lexer": "ipython3",
   "version": "3.10.8"
  }
 },
 "nbformat": 4,
 "nbformat_minor": 5
}
