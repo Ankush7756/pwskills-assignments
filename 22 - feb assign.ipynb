{
 "cells": [
  {
   "cell_type": "markdown",
   "id": "b88bb280-1e70-494a-9049-0aa86fe5421a",
   "metadata": {},
   "source": [
    "Q1. Create a Pandas Series that contains the following data: 4, 8, 15, 16, 23, and 42. Then, print the series."
   ]
  },
  {
   "cell_type": "code",
   "execution_count": 1,
   "id": "67fa8aef-ee0f-4aa8-a3dc-b29060edc9a3",
   "metadata": {},
   "outputs": [
    {
     "name": "stdout",
     "output_type": "stream",
     "text": [
      "Requirement already satisfied: pandas in /opt/conda/lib/python3.10/site-packages (1.5.2)\n",
      "Requirement already satisfied: python-dateutil>=2.8.1 in /opt/conda/lib/python3.10/site-packages (from pandas) (2.8.2)\n",
      "Requirement already satisfied: pytz>=2020.1 in /opt/conda/lib/python3.10/site-packages (from pandas) (2022.6)\n",
      "Requirement already satisfied: numpy>=1.21.0 in /opt/conda/lib/python3.10/site-packages (from pandas) (1.23.5)\n",
      "Requirement already satisfied: six>=1.5 in /opt/conda/lib/python3.10/site-packages (from python-dateutil>=2.8.1->pandas) (1.16.0)\n",
      "Note: you may need to restart the kernel to use updated packages.\n"
     ]
    }
   ],
   "source": [
    "pip install pandas"
   ]
  },
  {
   "cell_type": "code",
   "execution_count": 2,
   "id": "7f9370a4-f086-4c31-a77a-c477e45c99b0",
   "metadata": {},
   "outputs": [],
   "source": [
    "import pandas as pd"
   ]
  },
  {
   "cell_type": "code",
   "execution_count": 3,
   "id": "3d0306bc-c6c8-45f3-967d-131c343e38c4",
   "metadata": {},
   "outputs": [],
   "source": [
    "df = pd.read_csv(\"Book1.csv\")"
   ]
  },
  {
   "cell_type": "code",
   "execution_count": 4,
   "id": "0bb85661-f638-4c8d-a9f9-7579148a1557",
   "metadata": {},
   "outputs": [
    {
     "data": {
      "text/plain": [
       "Index(['series'], dtype='object')"
      ]
     },
     "execution_count": 4,
     "metadata": {},
     "output_type": "execute_result"
    }
   ],
   "source": [
    "df.columns"
   ]
  },
  {
   "cell_type": "code",
   "execution_count": 8,
   "id": "fd7c8353-4720-45a7-b654-b5070fa1988b",
   "metadata": {},
   "outputs": [
    {
     "data": {
      "text/plain": [
       "0     4\n",
       "1    15\n",
       "2    16\n",
       "3    23\n",
       "4    42\n",
       "Name: series, dtype: int64"
      ]
     },
     "execution_count": 8,
     "metadata": {},
     "output_type": "execute_result"
    }
   ],
   "source": [
    "df.series"
   ]
  },
  {
   "cell_type": "code",
   "execution_count": 17,
   "id": "c26060e3-330e-4713-bbaf-3bf035338914",
   "metadata": {},
   "outputs": [],
   "source": []
  },
  {
   "cell_type": "markdown",
   "id": "c61dee49-daaa-4d5e-af0f-03db94330b3f",
   "metadata": {},
   "source": [
    "Q2. Create a variable of list type containing 10 elements in it, and apply pandas.Series function on the\n",
    "variable print it."
   ]
  },
  {
   "cell_type": "code",
   "execution_count": 21,
   "id": "a8cb025e-52d5-4f3f-ab6c-9fa1dc3df781",
   "metadata": {},
   "outputs": [],
   "source": [
    "df1 = pd.read_csv(\"Book2.csv\")"
   ]
  },
  {
   "cell_type": "code",
   "execution_count": 23,
   "id": "1da0d2cc-ead0-459c-b06f-577b5c5468eb",
   "metadata": {},
   "outputs": [],
   "source": [
    "import pandas as pd"
   ]
  },
  {
   "cell_type": "code",
   "execution_count": 25,
   "id": "954ceebc-322a-4678-a81b-198129b57f71",
   "metadata": {},
   "outputs": [
    {
     "data": {
      "text/plain": [
       "0    df1\n",
       "dtype: object"
      ]
     },
     "execution_count": 25,
     "metadata": {},
     "output_type": "execute_result"
    }
   ],
   "source": [
    "pd.Series(\"df1\")"
   ]
  },
  {
   "cell_type": "code",
   "execution_count": null,
   "id": "61e28cf5-435f-438e-942a-bf39468fb3bf",
   "metadata": {},
   "outputs": [],
   "source": []
  },
  {
   "cell_type": "markdown",
   "id": "f51a66b8-54a6-472b-8589-69ccc7888008",
   "metadata": {},
   "source": [
    "Q3. Create a Pandas DataFrame that contains the following data:"
   ]
  },
  {
   "cell_type": "code",
   "execution_count": 27,
   "id": "90d27bf2-38a3-471c-835f-b2c84136cb68",
   "metadata": {},
   "outputs": [],
   "source": [
    "import pandas as pd"
   ]
  },
  {
   "cell_type": "code",
   "execution_count": 29,
   "id": "3d165b9f-fa85-4810-85a7-8c4d09e90293",
   "metadata": {},
   "outputs": [],
   "source": [
    "df2 = pd.read_csv(\"Book3.csv\")"
   ]
  },
  {
   "cell_type": "code",
   "execution_count": 31,
   "id": "c0fd1764-4fd0-4069-b967-63379d674c24",
   "metadata": {},
   "outputs": [
    {
     "data": {
      "text/html": [
       "<div>\n",
       "<style scoped>\n",
       "    .dataframe tbody tr th:only-of-type {\n",
       "        vertical-align: middle;\n",
       "    }\n",
       "\n",
       "    .dataframe tbody tr th {\n",
       "        vertical-align: top;\n",
       "    }\n",
       "\n",
       "    .dataframe thead th {\n",
       "        text-align: right;\n",
       "    }\n",
       "</style>\n",
       "<table border=\"1\" class=\"dataframe\">\n",
       "  <thead>\n",
       "    <tr style=\"text-align: right;\">\n",
       "      <th></th>\n",
       "      <th>Name</th>\n",
       "      <th>Age</th>\n",
       "      <th>Gender</th>\n",
       "    </tr>\n",
       "  </thead>\n",
       "  <tbody>\n",
       "    <tr>\n",
       "      <th>0</th>\n",
       "      <td>Alice</td>\n",
       "      <td>25</td>\n",
       "      <td>Female</td>\n",
       "    </tr>\n",
       "    <tr>\n",
       "      <th>1</th>\n",
       "      <td>Bob</td>\n",
       "      <td>30</td>\n",
       "      <td>Male</td>\n",
       "    </tr>\n",
       "    <tr>\n",
       "      <th>2</th>\n",
       "      <td>Claire</td>\n",
       "      <td>27</td>\n",
       "      <td>Female</td>\n",
       "    </tr>\n",
       "  </tbody>\n",
       "</table>\n",
       "</div>"
      ],
      "text/plain": [
       "     Name  Age  Gender\n",
       "0   Alice   25  Female\n",
       "1     Bob   30    Male\n",
       "2  Claire   27  Female"
      ]
     },
     "execution_count": 31,
     "metadata": {},
     "output_type": "execute_result"
    }
   ],
   "source": [
    "df2[['Name','Age','Gender']]\n"
   ]
  },
  {
   "cell_type": "markdown",
   "id": "2aad001e-efec-4043-8b3a-881d1c007e57",
   "metadata": {},
   "source": [
    "Q4. What is ‘DataFrame’ in pandas and how is it different from pandas.series? Explain with an example."
   ]
  },
  {
   "cell_type": "code",
   "execution_count": 33,
   "id": "04b722e4-4e6e-4729-a38d-74eb8b7390ca",
   "metadata": {},
   "outputs": [
    {
     "data": {
      "text/plain": [
       "'Pandas DataFrame, on the other hand, is a two-dimensional structure with columns and rows whose size can be changed. You can also think of it as a dictionary of Series objects. The data parameter can take any of the following data types: Dictionary (dict) of – 1D ndarray, lists, or Series'"
      ]
     },
     "execution_count": 33,
     "metadata": {},
     "output_type": "execute_result"
    }
   ],
   "source": [
    "\"\"\"the other hand, is a two-dimensional structure with columns and rows whose size can be changed. You can also think of it as a dictionary of Series objects. The data parameter can take any of the following data types: Dictionary (dict) of – 1D ndarray, lists, or Series\"\"\""
   ]
  },
  {
   "cell_type": "markdown",
   "id": "6c3b3c96-fbb7-4319-bdd6-cf081c26a550",
   "metadata": {},
   "source": [
    "Q5. What are some common functions you can use to manipulate data in a Pandas DataFrame? Can\n",
    "you give an example of when you might use one of these functions?"
   ]
  },
  {
   "cell_type": "code",
   "execution_count": 34,
   "id": "9591b6e0-714b-442d-933c-6c3051a5e458",
   "metadata": {},
   "outputs": [
    {
     "data": {
      "text/plain": [
       "'Some common functions that can be used to manipulate data in a Pandas DataFrame include:'"
      ]
     },
     "execution_count": 34,
     "metadata": {},
     "output_type": "execute_result"
    }
   ],
   "source": [
    "\"\"\"Some common functions that can be used to manipulate data in a Pandas DataFrame include:\"\"\""
   ]
  },
  {
   "cell_type": "code",
   "execution_count": 35,
   "id": "6865717a-f744-4e21-9535-f4808efa7833",
   "metadata": {},
   "outputs": [
    {
     "data": {
      "text/plain": [
       "'head(): This function returns the first n rows of the DataFrame. It can be useful to quickly check the structure of a DataFrame.'"
      ]
     },
     "execution_count": 35,
     "metadata": {},
     "output_type": "execute_result"
    }
   ],
   "source": [
    "\"\"\"head(): This function returns the first n rows of the DataFrame. It can be useful to quickly check the structure of a DataFrame.\"\"\""
   ]
  },
  {
   "cell_type": "code",
   "execution_count": 37,
   "id": "4d646657-3e0b-4d86-9b3a-88742b9643f0",
   "metadata": {},
   "outputs": [
    {
     "data": {
      "text/html": [
       "<div>\n",
       "<style scoped>\n",
       "    .dataframe tbody tr th:only-of-type {\n",
       "        vertical-align: middle;\n",
       "    }\n",
       "\n",
       "    .dataframe tbody tr th {\n",
       "        vertical-align: top;\n",
       "    }\n",
       "\n",
       "    .dataframe thead th {\n",
       "        text-align: right;\n",
       "    }\n",
       "</style>\n",
       "<table border=\"1\" class=\"dataframe\">\n",
       "  <thead>\n",
       "    <tr style=\"text-align: right;\">\n",
       "      <th></th>\n",
       "      <th>series</th>\n",
       "    </tr>\n",
       "  </thead>\n",
       "  <tbody>\n",
       "    <tr>\n",
       "      <th>0</th>\n",
       "      <td>4</td>\n",
       "    </tr>\n",
       "    <tr>\n",
       "      <th>1</th>\n",
       "      <td>15</td>\n",
       "    </tr>\n",
       "    <tr>\n",
       "      <th>2</th>\n",
       "      <td>16</td>\n",
       "    </tr>\n",
       "    <tr>\n",
       "      <th>3</th>\n",
       "      <td>23</td>\n",
       "    </tr>\n",
       "    <tr>\n",
       "      <th>4</th>\n",
       "      <td>42</td>\n",
       "    </tr>\n",
       "  </tbody>\n",
       "</table>\n",
       "</div>"
      ],
      "text/plain": [
       "   series\n",
       "0       4\n",
       "1      15\n",
       "2      16\n",
       "3      23\n",
       "4      42"
      ]
     },
     "execution_count": 37,
     "metadata": {},
     "output_type": "execute_result"
    }
   ],
   "source": [
    "import pandas as pd\n",
    "df = pd.read_csv('Book1.csv')\n",
    "df.head(10) # returns the first 10 rows of the DataFrame\n"
   ]
  },
  {
   "cell_type": "code",
   "execution_count": 38,
   "id": "2a2b01cd-8e54-465a-8555-0a48318442e2",
   "metadata": {},
   "outputs": [
    {
     "data": {
      "text/plain": [
       "'tail(): This function returns the last n rows of the DataFrame.'"
      ]
     },
     "execution_count": 38,
     "metadata": {},
     "output_type": "execute_result"
    }
   ],
   "source": [
    "\"\"\"tail(): This function returns the last n rows of the DataFrame.\"\"\""
   ]
  },
  {
   "cell_type": "code",
   "execution_count": 39,
   "id": "d93f443a-d0e2-4ca2-8a91-4ec94503fdc1",
   "metadata": {},
   "outputs": [
    {
     "data": {
      "text/html": [
       "<div>\n",
       "<style scoped>\n",
       "    .dataframe tbody tr th:only-of-type {\n",
       "        vertical-align: middle;\n",
       "    }\n",
       "\n",
       "    .dataframe tbody tr th {\n",
       "        vertical-align: top;\n",
       "    }\n",
       "\n",
       "    .dataframe thead th {\n",
       "        text-align: right;\n",
       "    }\n",
       "</style>\n",
       "<table border=\"1\" class=\"dataframe\">\n",
       "  <thead>\n",
       "    <tr style=\"text-align: right;\">\n",
       "      <th></th>\n",
       "      <th>name</th>\n",
       "    </tr>\n",
       "  </thead>\n",
       "  <tbody>\n",
       "    <tr>\n",
       "      <th>0</th>\n",
       "      <td>Ankush</td>\n",
       "    </tr>\n",
       "    <tr>\n",
       "      <th>1</th>\n",
       "      <td>rahul</td>\n",
       "    </tr>\n",
       "    <tr>\n",
       "      <th>2</th>\n",
       "      <td>avijit</td>\n",
       "    </tr>\n",
       "    <tr>\n",
       "      <th>3</th>\n",
       "      <td>monu</td>\n",
       "    </tr>\n",
       "    <tr>\n",
       "      <th>4</th>\n",
       "      <td>sonu</td>\n",
       "    </tr>\n",
       "    <tr>\n",
       "      <th>5</th>\n",
       "      <td>rohit</td>\n",
       "    </tr>\n",
       "    <tr>\n",
       "      <th>6</th>\n",
       "      <td>soni</td>\n",
       "    </tr>\n",
       "    <tr>\n",
       "      <th>7</th>\n",
       "      <td>kalu</td>\n",
       "    </tr>\n",
       "    <tr>\n",
       "      <th>8</th>\n",
       "      <td>kirmada</td>\n",
       "    </tr>\n",
       "  </tbody>\n",
       "</table>\n",
       "</div>"
      ],
      "text/plain": [
       "      name\n",
       "0   Ankush\n",
       "1    rahul\n",
       "2   avijit\n",
       "3     monu\n",
       "4     sonu\n",
       "5    rohit\n",
       "6     soni\n",
       "7     kalu\n",
       "8  kirmada"
      ]
     },
     "execution_count": 39,
     "metadata": {},
     "output_type": "execute_result"
    }
   ],
   "source": [
    "import pandas as pd\n",
    "df = pd.read_csv('Book2.csv')\n",
    "df.tail(10) # returns the last 10 rows of the DataFrame\n"
   ]
  },
  {
   "cell_type": "markdown",
   "id": "5625686c-c3c0-4ed6-b573-96372879300f",
   "metadata": {},
   "source": [
    "Q6. Which of the following is mutable in nature Series, DataFrame, Panel?"
   ]
  },
  {
   "cell_type": "code",
   "execution_count": 40,
   "id": "5addb34c-b6b8-4a8b-8e96-6762c5bba5eb",
   "metadata": {},
   "outputs": [
    {
     "data": {
      "text/plain": [
       "'In pandas library, Series and DataFrame are mutable in nature, while Panel is immutable.\\n\\nMutable objects are those objects that can be modified after they are created, while immutable objects cannot be modified once they are created.\\n\\nSo, in Pandas, you can modify the values of a Series or DataFrame after it is created, but you cannot modify the values of a Panel after it is created.'"
      ]
     },
     "execution_count": 40,
     "metadata": {},
     "output_type": "execute_result"
    }
   ],
   "source": [
    "\"\"\"In pandas library, Series and DataFrame are mutable in nature, while Panel is immutable.\n",
    "\n",
    "Mutable objects are those objects that can be modified after they are created, while immutable objects cannot be modified once they are created.\n",
    "\n",
    "So, in Pandas, you can modify the values of a Series or DataFrame after it is created, but you cannot modify the values of a Panel after it is created.\"\"\""
   ]
  },
  {
   "cell_type": "markdown",
   "id": "75e56af3-fd35-4859-896b-a797b9d053ca",
   "metadata": {},
   "source": [
    "Q7. Create a DataFrame using multiple Series. Explain with an example."
   ]
  },
  {
   "cell_type": "code",
   "execution_count": 41,
   "id": "5774404d-3308-403d-a274-7d575df285d8",
   "metadata": {},
   "outputs": [
    {
     "name": "stdout",
     "output_type": "stream",
     "text": [
      "    Name  Age         City\n",
      "0   John   28     New York\n",
      "1  Alice   23       Boston\n",
      "2    Bob   35      Chicago\n",
      "3   Mary   41  Los Angeles\n"
     ]
    }
   ],
   "source": [
    "import pandas as pd\n",
    "\n",
    "# Create a Series for the first column of the DataFrame\n",
    "names = pd.Series(['John', 'Alice', 'Bob', 'Mary'])\n",
    "\n",
    "# Create a Series for the second column of the DataFrame\n",
    "ages = pd.Series([28, 23, 35, 41])\n",
    "\n",
    "# Create a Series for the third column of the DataFrame\n",
    "cities = pd.Series(['New York', 'Boston', 'Chicago', 'Los Angeles'])\n",
    "\n",
    "# Create the DataFrame using the above Series\n",
    "df = pd.DataFrame({'Name': names, 'Age': ages, 'City': cities})\n",
    "\n",
    "# Display the DataFrame\n",
    "print(df)\n"
   ]
  },
  {
   "cell_type": "code",
   "execution_count": null,
   "id": "1fb7fa03-3fe0-492d-a757-c961e0591ae9",
   "metadata": {},
   "outputs": [],
   "source": []
  }
 ],
 "metadata": {
  "kernelspec": {
   "display_name": "Python 3 (ipykernel)",
   "language": "python",
   "name": "python3"
  },
  "language_info": {
   "codemirror_mode": {
    "name": "ipython",
    "version": 3
   },
   "file_extension": ".py",
   "mimetype": "text/x-python",
   "name": "python",
   "nbconvert_exporter": "python",
   "pygments_lexer": "ipython3",
   "version": "3.10.8"
  }
 },
 "nbformat": 4,
 "nbformat_minor": 5
}
