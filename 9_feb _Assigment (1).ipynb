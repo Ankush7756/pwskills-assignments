{
 "cells": [
  {
   "cell_type": "markdown",
   "id": "871b562e-b0c3-4a04-a391-b0bffbf7a9dd",
   "metadata": {},
   "source": [
    "#Q1, Create a vehicle class with an init method having instance variables as name_of_vehicle, max_speed\n",
    "and average_of_vehicle."
   ]
  },
  {
   "cell_type": "code",
   "execution_count": 19,
   "id": "8fc407b4-f974-43b6-8acd-0a6369157cf7",
   "metadata": {},
   "outputs": [],
   "source": [
    "class vehicle :\n",
    "    def __init__(self,name_of_vehicle,max_speed,average_of_vehicle):\n",
    "        self.name =name_of_vehicle\n",
    "        self.speed = max_speed\n",
    "        self.averge = average_of_vehicle\n",
    "\n",
    "    def details(self):\n",
    "        return self.name,self.speed,self.averge\n",
    "    \n",
    "        "
   ]
  },
  {
   "cell_type": "markdown",
   "id": "52616e5e-1a59-4c71-80cf-94a607be449c",
   "metadata": {},
   "source": [
    "Q2. Create a child class car from the vehicle class created in Que 1, which will inherit the vehicle class.\n",
    "Create a method named seating_capacity which takes capacity as an argument and returns the name of\n",
    "the vehicle and its seating capacity."
   ]
  },
  {
   "cell_type": "code",
   "execution_count": null,
   "id": "75392ce8-5115-4aad-930b-5c61f99669bf",
   "metadata": {},
   "outputs": [],
   "source": [
    "class cars(vehicle):\n",
    "    def seated_capacity(self,capacity):\n",
    "        return self.name , capacity\n",
    "        "
   ]
  },
  {
   "cell_type": "markdown",
   "id": "b09d9317-d841-413a-8460-87a196427581",
   "metadata": {},
   "source": [
    "Q3. What is multiple inheritance? Write a python code to demonstrate multiple inheritance."
   ]
  },
  {
   "cell_type": "code",
   "execution_count": 20,
   "id": "86408dea-104b-4286-8969-666285c8bcb5",
   "metadata": {},
   "outputs": [
    {
     "data": {
      "text/plain": [
       "'A class can be derived from more than one superclass in Python. This is called multiple inheritance. For example, A class Bat is derived from superclasses Mammal and WingedAnimal '"
      ]
     },
     "execution_count": 20,
     "metadata": {},
     "output_type": "execute_result"
    }
   ],
   "source": [
    "\"\"\"A class can be derived from more than one superclass in Python. This is called multiple inheritance. For example, A class Bat is derived from superclasses Mammal and WingedAnimal \"\"\""
   ]
  },
  {
   "cell_type": "markdown",
   "id": "5443b076-3353-4d22-8db6-19b76c77ad68",
   "metadata": {},
   "source": [
    "# code"
   ]
  },
  {
   "cell_type": "code",
   "execution_count": 3,
   "id": "26a91294-d0b4-4baa-8e81-38169cc359b0",
   "metadata": {},
   "outputs": [],
   "source": [
    "class class_1:\n",
    "    def test1(self):\n",
    "        print(\"this is the class1\")"
   ]
  },
  {
   "cell_type": "code",
   "execution_count": 4,
   "id": "cdd81b88-d71d-4ec5-a12d-87f79e0e5fd0",
   "metadata": {},
   "outputs": [],
   "source": [
    "class class_2:\n",
    "    def test2(self):\n",
    "        print(\"this is the calss2\")       "
   ]
  },
  {
   "cell_type": "code",
   "execution_count": 6,
   "id": "2a5eb3d4-37b2-403d-8184-9db3b199b6ba",
   "metadata": {},
   "outputs": [
    {
     "name": "stdout",
     "output_type": "stream",
     "text": [
      "this is the class1\n",
      "this is the calss2\n"
     ]
    }
   ],
   "source": [
    "class class_3(class_1,class_2):\n",
    "    pass\n",
    "\n",
    "c = class_3()\n",
    "c.test1()\n",
    "c.test2()"
   ]
  },
  {
   "cell_type": "markdown",
   "id": "9de05392-9a49-428a-a90d-bc8aa6dc4c11",
   "metadata": {
    "tags": []
   },
   "source": []
  },
  {
   "cell_type": "markdown",
   "id": "5d0278bb-8f04-4df9-ae06-15279ea78c30",
   "metadata": {},
   "source": [
    "Q4. What are getter and setter in python? Create a class and create a getter and a setter method in this\n",
    "class."
   ]
  },
  {
   "cell_type": "markdown",
   "id": "79b96c1a-58ac-43ab-863d-1e5f1644f3e7",
   "metadata": {},
   "source": [
    "\"\"\"getters and setters are methods that are used to access and modify the class attributes or properties. The getter method is used to retrieve the value of a private class variable, while the setter method is used to modify the value of that variable.\n",
    "\n",
    "Here's an example class that has a private attribute age and getter and setter methods to access and modify the value of the attribute:\"\"\""
   ]
  },
  {
   "cell_type": "code",
   "execution_count": 7,
   "id": "8281512a-c7b5-485a-a6aa-e6bb5e2066d8",
   "metadata": {},
   "outputs": [],
   "source": [
    "class Person:\n",
    "    def __init__(self, name, age):\n",
    "        self.name = name\n",
    "        self.__age = age\n",
    "\n",
    "    def get_age(self):\n",
    "        return self.__age\n",
    "\n",
    "    def set_age(self, age):\n",
    "        if age < 0:\n",
    "            raise ValueError(\"Age cannot be negative\")\n",
    "        else:\n",
    "            self.__age = age\n"
   ]
  },
  {
   "cell_type": "code",
   "execution_count": null,
   "id": "8e7a12fb-89d7-402b-9204-b5807f468fe0",
   "metadata": {},
   "outputs": [],
   "source": []
  },
  {
   "cell_type": "markdown",
   "id": "ae4f4c54-f10b-4651-90f5-936173d474f8",
   "metadata": {},
   "source": []
  },
  {
   "cell_type": "markdown",
   "id": "31b0d65d-7c8a-4a3f-9113-12503729f617",
   "metadata": {},
   "source": [
    "Q5.What is method overriding in python? Write a python code to demonstrate method overriding.\n",
    "\"\"\"ethod overriding in Python is a concept of Object Oriented Programming (OOP) where a derived class provides its own implementation of a method that is already defined in its base class. This allows the derived class to change the behavior of the inherited method according to its own specific needs.\n",
    "\n",
    "Here's an example code that demonstrates method overriding in Python:\"\"\""
   ]
  },
  {
   "cell_type": "code",
   "execution_count": 10,
   "id": "3b19cd4e-81ae-4006-aef3-f31f190ab832",
   "metadata": {},
   "outputs": [
    {
     "name": "stdout",
     "output_type": "stream",
     "text": [
      "The animal makes a sound.\n",
      "The dog barks.\n",
      "The cat meows.\n"
     ]
    }
   ],
   "source": [
    "class Animal:\n",
    "    def __init__(self, name):\n",
    "        self.name = name\n",
    "\n",
    "    def make_sound(self):\n",
    "        print(\"The animal makes a sound.\")\n",
    "\n",
    "class Dog(Animal):\n",
    "    def __init__(self, name):\n",
    "        super().__init__(name)\n",
    "\n",
    "    def make_sound(self):\n",
    "        print(\"The dog barks.\")\n",
    "\n",
    "class Cat(Animal):\n",
    "    def __init__(self, name):\n",
    "        super().__init__(name)\n",
    "\n",
    "    def make_sound(self):\n",
    "        print(\"The cat meows.\")\n",
    "\n",
    "# create instances of the classes\n",
    "animal = Animal(\"Animal\")\n",
    "dog = Dog(\"Dog\")\n",
    "cat = Cat(\"Cat\")\n",
    "\n",
    "# call the make_sound method on each instance\n",
    "animal.make_sound()  # The animal makes a sound.\n",
    "dog.make_sound()     # The dog barks.\n",
    "cat.make_sound()     # The cat meows.\n"
   ]
  },
  {
   "cell_type": "code",
   "execution_count": null,
   "id": "c88791a5-7c83-4e22-963a-faa025bb9ade",
   "metadata": {},
   "outputs": [],
   "source": []
  },
  {
   "cell_type": "code",
   "execution_count": null,
   "id": "f9cb818e-d8cf-4eaf-9c49-588ff6137f02",
   "metadata": {},
   "outputs": [],
   "source": []
  }
 ],
 "metadata": {
  "kernelspec": {
   "display_name": "Python 3 (ipykernel)",
   "language": "python",
   "name": "python3"
  },
  "language_info": {
   "codemirror_mode": {
    "name": "ipython",
    "version": 3
   },
   "file_extension": ".py",
   "mimetype": "text/x-python",
   "name": "python",
   "nbconvert_exporter": "python",
   "pygments_lexer": "ipython3",
   "version": "3.10.8"
  }
 },
 "nbformat": 4,
 "nbformat_minor": 5
}
